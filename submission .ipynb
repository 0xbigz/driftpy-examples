{
 "cells": [
  {
   "cell_type": "code",
   "execution_count": 1,
   "id": "d5d4455b",
   "metadata": {},
   "outputs": [],
   "source": [
    "import requests, json\n",
    "import pandas as pd\n",
    "import numpy as np\n",
    "pd.options.mode.chained_assignment = None  # default='warn'\n",
    "import asyncio\n",
    "import os\n",
    "import json\n",
    "import copy\n",
    "\n",
    "from anchorpy import Wallet\n",
    "from anchorpy import Provider\n",
    "from solana.keypair import Keypair\n",
    "from solana.rpc.async_api import AsyncClient\n",
    "\n",
    "from driftpy.constants.config import configs\n",
    "from driftpy.types import *\n",
    "#MarketType, OrderType, OrderParams, PositionDirection, OrderTriggerCondition\n",
    "\n",
    "from driftpy.clearing_house import ClearingHouse\n",
    "from driftpy.constants.numeric_constants import BASE_PRECISION, PRICE_PRECISION\n",
    "\n",
    "from driftpy.constants.config import configs\n",
    "from anchorpy import Provider\n",
    "from anchorpy import Wallet\n",
    "from solana.rpc.async_api import AsyncClient\n",
    "from driftpy.clearing_house import ClearingHouse\n",
    "from driftpy.clearing_house_user import ClearingHouseUser\n",
    "from driftpy.accounts import *\n",
    "from solana.keypair import Keypair\n",
    "from driftpy.math.positions import is_available\n",
    "from driftpy.constants.numeric_constants import *\n",
    "import os\n",
    "from driftpy.clearing_house_user import ClearingHouseUser\n",
    "from driftpy.clearing_house import ClearingHouse\n",
    "from solana.keypair import Keypair\n",
    "from driftpy.constants.config import configs\n",
    "import os\n",
    "from anchorpy import Wallet, Provider\n",
    "from solana.rpc.async_api import AsyncClient\n",
    "\n",
    "\n",
    "\n",
    "\n",
    "MARKET_INDEX_SOL = 0\n",
    "userAccount = \"ECbtn9Y34m6L89EBDMRYxhpyrFgSHEcbELgozpqAvcDY\"\n",
    "PKEY = \"7f6d3DWGkNrKTERtW9McbBQCVbZibuHUf7CsdUjJyK1t\"\n",
    "URL_ORDERS_SELF   = f\"https://master.api.drift.trade/orders/userAccounts?userPublicKeys={PKEY}&pageIndex=0&pageSize=100&marketType=perp\"\n",
    "## (below), putting public key only allows me to see\n",
    "URL_HISTORY_SELF  = f\"https://beta.drift.trade/overview/history/tradeHistory?userAccount={PKEY}\"\n",
    "URL_DEVNET_OB     = \"https://master.dlob.drift.trade/orders/json\""
   ]
  },
  {
   "cell_type": "code",
   "execution_count": 2,
   "id": "563d232b",
   "metadata": {},
   "outputs": [
    {
     "data": {
      "text/plain": [
       "[Market(symbol='SOL-PERP', base_asset_symbol='SOL', market_index=0, pyth_oracle=J83w4HKfqxwcq3BEMMkPFSppX3gqekLyLJBexebFVkix),\n",
       " Market(symbol='BTC-PERP', base_asset_symbol='BTC', market_index=1, pyth_oracle=HovQMDrbAgAYPCmHVSrezcSmkMtXSSUsLDFANExrZh2J),\n",
       " Market(symbol='ETH-PERP', base_asset_symbol='ETH', market_index=2, pyth_oracle=EdVCmQ9FSPcVe5YySXDPCRmc8aDQLKJ9xvYBMZPie1Vw)]"
      ]
     },
     "execution_count": 2,
     "metadata": {},
     "output_type": "execute_result"
    }
   ],
   "source": [
    "from driftpy import constants\n",
    "constants.markets.devnet_markets"
   ]
  },
  {
   "cell_type": "code",
   "execution_count": null,
   "id": "83e1a235",
   "metadata": {},
   "outputs": [],
   "source": []
  },
  {
   "cell_type": "code",
   "execution_count": 3,
   "id": "84f3c308",
   "metadata": {},
   "outputs": [
    {
     "name": "stdout",
     "output_type": "stream",
     "text": [
      "#bids=16, #asks=4\n"
     ]
    }
   ],
   "source": [
    "def orderbook_all(perp_market=\"SOL-PERP\"):\n",
    "    \"\"\" Queries DEVNET orderbok for specified perp market, organizes data into bid/asks sorted\n",
    "    \"\"\"\n",
    "    try:\n",
    "        r = requests.get(URL_DEVNET_OB).json()\n",
    "    except:\n",
    "        print(r)\n",
    "        raise Exception(\"Unable to fetch orderbook\")\n",
    "\n",
    "    slot    = r['slot']\n",
    "    oracles = r['oracles']\n",
    "    orders  = r['orders']\n",
    "\n",
    "    ## market index -> price\n",
    "    market_to_oracle_map = pd.DataFrame(r['oracles']).set_index('marketIndex').to_dict()['price']\n",
    "\n",
    "    ## Get list of outstanding orders    \n",
    "    orders_all = list(map(lambda d: {\"user\":d['user'][:10], **d.pop('order')}, orders))\n",
    "    df = pd.DataFrame(orders_all)\n",
    "    df_raw = pd.DataFrame(orders_all)\n",
    "    \n",
    "    ## Only interested in (a) SOL-PERP (b) limit orders\n",
    "    # SOL is marketINdex=0\n",
    "    df = df[(df.marketIndex == MARKET_INDEX_SOL) & (df.marketType=='perp')]\n",
    "    \n",
    "    df[\"oraclePrice\"] = df[\"marketIndex\"].apply(lambda x: market_to_oracle_map.get(x, None))\n",
    "\n",
    "    ## Convert from lamports:\n",
    "    for col in ['price', 'oraclePrice', 'oraclePriceOffset']:\n",
    "        df[col] = df[col].astype(int)\n",
    "        df[col] /= 1e6\n",
    "\n",
    "    for col in ['quoteAssetAmountFilled']:\n",
    "        df[col] = df[col].astype(int)\n",
    "        df[col] /= 1e6 \n",
    "\n",
    "    for col in ['baseAssetAmount', 'baseAssetAmountFilled']:\n",
    "        df[col] = df[col].astype(int)\n",
    "        df[col] /= 1e9\n",
    "        \n",
    "    \n",
    "    bid_df = df[(df.direction == 'long') & (df.orderType == 'limit')]\n",
    "    ask_df = df[(df.direction == 'short')   &( df.orderType == 'limit')]\n",
    "    \n",
    "    ## Fixed prices are ok\n",
    "    ## Floating prices need to be marked to a fixed price according to oracle price    \n",
    "    bid_float = bid_df.loc[bid_df.price == 0] # inv: 0 price <-> floating order .w.r.t oracle \n",
    "    ask_float = ask_df.loc[ask_df.price == 0] #\n",
    "    \n",
    "    bid_df.loc[bid_df.price == 0, \"price\"] = bid_float[\"oraclePrice\"] + bid_float[\"oraclePriceOffset\"]\n",
    "    ask_df.loc[ask_df.price == 0, \"price\"] = ask_float[\"oraclePrice\"] + ask_float[\"oraclePriceOffset\"]\n",
    "    \n",
    "    \n",
    "    bid_df = bid_df.sort_values(['price'], ascending=False)\n",
    "    ask_df = ask_df.sort_values(['price'])\n",
    "    \n",
    "    bid_df = bid_df.reset_index(drop=True)\n",
    "    ask_df = ask_df.reset_index(drop=True)\n",
    "    \n",
    "    return df_raw, bid_df, ask_df\n",
    "\n",
    "def orderbook_expanded(perp_market=\"SOL-PERP\"):\n",
    "    \"\"\"\n",
    "        simplieid view of orderbook\n",
    "    \"\"\"\n",
    "    _, bid, ask = orderbook_all(perp_market)\n",
    "    \n",
    "    \n",
    "    \n",
    "    bid_simple = bid[[\"price\", \"baseAssetAmount\", \"baseAssetAmountFilled\", \"postOnly\", \"oraclePriceOffset\", \"oraclePrice\"]]\n",
    "    ask_simple = ask[[\"price\", \"baseAssetAmount\", \"baseAssetAmountFilled\", \"postOnly\", \"oraclePriceOffset\", \"oraclePrice\"]]\n",
    "\n",
    "    #### SOME ARE PARTIALLY FILLED\n",
    "    bid_simple[\"qty\"] = bid_simple[\"baseAssetAmount\"] - bid_simple[\"baseAssetAmountFilled\"]\n",
    "    ask_simple[\"qty\"] = ask_simple[\"baseAssetAmount\"] - ask_simple[\"baseAssetAmountFilled\"]\n",
    "    \n",
    "\n",
    "    return bid_simple, ask_simple\n",
    "\n",
    "def get_dlob(perp_market=\"SOL-PERP\"):\n",
    "    \"\"\"\n",
    "        Returns simplified orderbook view \n",
    "    \"\"\"\n",
    "    bid, ask = orderbook_expanded(perp_market)\n",
    "    \n",
    "    bid_ob = bid_s[[\"price\", \"qty\"]].groupby(\"price\", sort=False).sum()\n",
    "    ask_ob = ask_s[[\"price\", \"qty\"]].groupby(\"price\", sort=False).sum()\n",
    "    return bid_ob, ask_ob\n",
    "    \n",
    "def fair_price_dlob(bid_ob, ask_ob):\n",
    "    return (bid_ob.index.max() + ask_ob.index.min() ) / 2.0\n",
    "    \n",
    "\n",
    "df_raw, bid, ask = orderbook_all()\n",
    "print(f\"#bids={len(bid)}, #asks={len(ask)}\")\n",
    "bid_s, ask_s     = orderbook_expanded()\n",
    "bid_ob, ask_ob   = get_dlob()"
   ]
  },
  {
   "cell_type": "code",
   "execution_count": null,
   "id": "70425378",
   "metadata": {},
   "outputs": [],
   "source": []
  },
  {
   "cell_type": "code",
   "execution_count": null,
   "id": "c16e8fa4",
   "metadata": {},
   "outputs": [],
   "source": []
  },
  {
   "cell_type": "code",
   "execution_count": 5,
   "id": "567e85ed",
   "metadata": {
    "scrolled": true
   },
   "outputs": [],
   "source": [
    "async def get_solana_perp_oracle():\n",
    "    \"\"\" return SOL-PERP oracle \"\"\"\n",
    "    with open(os.path.expanduser(\"/home/sjl/.config/solana/key.json\"), 'r') as f: secret = json.load(f)\n",
    "    kp = Keypair.from_secret_key(bytes(secret))\n",
    "    subaccount = 0\n",
    "    print('using public key:', kp.public_key, \" subaccount = \", subaccount)\n",
    "\n",
    "    env = 'devnet'\n",
    "    config = configs[env]\n",
    "    wallet = Wallet(kp) \n",
    "    connection = AsyncClient(config.default_http)\n",
    "    provider = Provider(connection, wallet)\n",
    "\n",
    "    ch = ClearingHouse.from_config(config, provider)\n",
    "    chu = ClearingHouseUser(ch, authority=ch, subaccount_id=subaccount)\n",
    "    perp_market = await chu.get_perp_market(0)\n",
    "    oracle = (await chu.get_perp_oracle_data(perp_market)).price / PRICE_PRECISION\n",
    "\n",
    "    return oracle"
   ]
  },
  {
   "cell_type": "code",
   "execution_count": null,
   "id": "3cb08d21",
   "metadata": {},
   "outputs": [],
   "source": []
  },
  {
   "cell_type": "code",
   "execution_count": 6,
   "id": "06cf012f",
   "metadata": {
    "scrolled": false
   },
   "outputs": [],
   "source": [
    "\n",
    "def mm_order_single(order_offset, order_direction=PositionDirection.LONG(), order_qty=0):\n",
    "\n",
    "    # order_base_qty  = 100\n",
    "    # order_direction = PositionDirection.LONG()\n",
    "    # order_oracle_offset = 1e-4 * PRICE_PRECISION \n",
    "\n",
    "    return OrderParams(\n",
    "        order_type=OrderType.LIMIT(),\n",
    "        market_type=MarketType.PERP(),\n",
    "        direction=order_direction,\n",
    "        user_order_id=0,\n",
    "        base_asset_amount = int(order_qty * BASE_PRECISION),\n",
    "        price=0,\n",
    "        market_index=0,\n",
    "        reduce_only=False,\n",
    "        post_only=PostOnlyParams.TRY_POST_ONLY(),\n",
    "        immediate_or_cancel=False,\n",
    "        trigger_price=0,\n",
    "        trigger_condition=OrderTriggerCondition.ABOVE(),\n",
    "        oracle_price_offset= int(order_offset * PRICE_PRECISION),\n",
    "        auction_duration=None,\n",
    "        max_ts=None,\n",
    "        auction_start_price=None,\n",
    "        auction_end_price=None,\n",
    "    )\n",
    "\n",
    "\n",
    "async def construct_and_place(bid_offsets, bid_qtys, ask_offsets, ask_qtys, cancel_existing=True):\n",
    "    \"\"\"\n",
    "        bundles offsets / quantities for bids / asks into an array of orders\n",
    "        and places order\n",
    "        \n",
    "        cancels existing orders before placing\n",
    "    \"\"\"\n",
    "    all_orders = []\n",
    "    \n",
    "    if(cancel_existing):\n",
    "        all_orders.append(await drift_acct.get_cancel_orders_ix(0))\n",
    "    \n",
    "    for bo, bq in zip(bid_offsets, bid_qtys):\n",
    "        temp_order = mm_order_single(bo, PositionDirection.LONG(), bq)\n",
    "        all_orders.append(\n",
    "            await drift_acct.get_place_perp_order_ix(temp_order, 0)\n",
    "        )\n",
    "    for ao, aq in zip(ask_offsets, ask_qtys):\n",
    "         all_orders.append(\n",
    "             await drift_acct.get_place_perp_order_ix(mm_order_single(ao, PositionDirection.SHORT(), aq), 0)\n",
    "         )\n",
    "        \n",
    "    ret = await drift_acct.send_ixs(all_orders)\n",
    "    \n",
    "    return ret\n",
    "\n",
    "\n",
    "bid_offsets = [-10, -12, -15]\n",
    "bid_qtys    = [1.1, 2.2, 1.1]\n",
    "\n",
    "ask_offsets = [10, 12, 15]\n",
    "ask_qtys    = [1.1, 2.2, 1.1]\n",
    "\n",
    "# await construct_and_place(bid_offsets, bid_qtys, ask_offsets, ask_qtys)"
   ]
  },
  {
   "cell_type": "markdown",
   "id": "f98cc49f",
   "metadata": {},
   "source": [
    "# Market Making Parameters"
   ]
  },
  {
   "cell_type": "code",
   "execution_count": 7,
   "id": "c3044d5a",
   "metadata": {},
   "outputs": [
    {
     "name": "stdout",
     "output_type": "stream",
     "text": [
      "/home/sjl/Projects/drift/driftpy-examples/venv/lib/python3.10/site-packages/driftpy/idl/drift.json\n"
     ]
    }
   ],
   "source": [
    "## Set up clearing house user client to view balances \n",
    "\n",
    "subaccount_id = 0\n",
    "env = 'devnet'\n",
    "url = 'https://api.devnet.solana.com'\n",
    "with open(os.path.expanduser(\"/home/sjl/.config/solana/key.json\"), 'r') as f: secret = json.load(f)\n",
    "kp = Keypair.from_secret_key(bytes(secret))\n",
    "config = configs[env]\n",
    "wallet = Wallet(kp)\n",
    "connection = AsyncClient(url)\n",
    "provider = Provider(connection, wallet)\n",
    "drift_acct = ClearingHouse.from_config(config, provider)\n",
    "chu        = ClearingHouseUser(drift_acct)"
   ]
  },
  {
   "cell_type": "code",
   "execution_count": 9,
   "id": "6a735cce",
   "metadata": {},
   "outputs": [
    {
     "data": {
      "text/plain": [
       "3.525205679999828"
      ]
     },
     "execution_count": 9,
     "metadata": {},
     "output_type": "execute_result"
    }
   ],
   "source": [
    "await chu.get_unrealized_pnl() / PRICE_PRECISION"
   ]
  },
  {
   "cell_type": "code",
   "execution_count": 13,
   "id": "df661581",
   "metadata": {},
   "outputs": [
    {
     "data": {
      "text/plain": [
       "PerpPosition(last_cumulative_funding_rate=-3291315921, base_asset_amount=-109960000000, quote_asset_amount=2531636678, quote_break_even_amount=2531474468, quote_entry_amount=2530827537, open_bids=4400000000, open_asks=-4400000000, settled_pnl=0, lp_shares=0, last_base_asset_amount_per_lp=0, last_quote_asset_amount_per_lp=0, remainder_base_asset_amount=0, market_index=0, open_orders=6, padding=ListContainer([0]))"
      ]
     },
     "execution_count": 13,
     "metadata": {},
     "output_type": "execute_result"
    }
   ],
   "source": [
    "await chu.get_user_position(0)"
   ]
  },
  {
   "cell_type": "code",
   "execution_count": null,
   "id": "9d9365b5",
   "metadata": {},
   "outputs": [],
   "source": []
  },
  {
   "cell_type": "code",
   "execution_count": null,
   "id": "77906c3b",
   "metadata": {},
   "outputs": [],
   "source": [
    "# Constants that never change \n",
    "\n",
    "## Initial deposit into account\n",
    "INITIAL_COLLATERAL_SOL = 1\n",
    "INITIAL_COLLATERAL_USD = 100\n",
    "\n",
    "TARGET_MAX_SIZE = 100\n",
    "LEVERAGE_LIMIT  = 2\n",
    "\n",
    "# Computed from above:\n",
    "curr_collateral = None\n",
    "curr_leverage   = None\n",
    "\n",
    "AGGRESSION = 10e-4\n",
    "\n"
   ]
  },
  {
   "cell_type": "code",
   "execution_count": null,
   "id": "91eddbd6",
   "metadata": {},
   "outputs": [],
   "source": [
    "bid_ob.reset_index().iloc[0]"
   ]
  },
  {
   "cell_type": "code",
   "execution_count": null,
   "id": "ac077488",
   "metadata": {},
   "outputs": [],
   "source": [
    "# fair_price, AGGRESSION\n",
    "ask_width      = AGGRESSION  * 0.8  # TODO\n",
    "\n",
    "ask_prices     = np.linspace(fair_price, fair_price*(1+ask_width), 3)\n",
    "ask_prices"
   ]
  },
  {
   "cell_type": "code",
   "execution_count": null,
   "id": "07674964",
   "metadata": {},
   "outputs": [],
   "source": [
    "## Below specific for SOL-PERP\n",
    "\n",
    "epoch = 0\n",
    "\n",
    "while epoch < 3:\n",
    "    \n",
    "    print(\"Epoch: \", epoch)\n",
    "    epoch += 1\n",
    "    \n",
    "    ## PART 1: Record state change from previous state\n",
    "    #  - See if any fills\n",
    "    #  - Get current oracle / market price, mark collateral and leverage properly\n",
    "    \n",
    "    # Current SOL-PERP position\n",
    "    pp = await chu.get_user_position(0)\n",
    "    current_pos = pp.base_asset_amount / 1e9  \n",
    "    print(f\"> current pos = {current_pos}\")\n",
    "    \n",
    "    # (1): Get the current order book (GET Request)\n",
    "    bid_ob, ask_ob = get_dlob()\n",
    "\n",
    "    # (2): Calculate the fair price based on the order book\n",
    "    fair_price = fair_price_dlob(bid_ob, ask_ob)\n",
    "    print(f\"> fair price = {fair_price}\")\n",
    "    \n",
    "    ## PART 2: Prepare new bids / ask price points\n",
    "    \n",
    "    # ------ bid side -------\n",
    "    ## Compute total size\n",
    "    bid_target_pos     = TARGET_MAX_SIZE - current_pos\n",
    "    bid_offset_width   = AGGRESSION * 1.1  # TODO\n",
    "    \n",
    "    bid_offsets        = np.linspace(0, bid_offset_width, 4)[1:]\n",
    "    bid_qts            = bid_target_pos * np.array([0.25, 0.5, 0.25])\n",
    "    \n",
    "    print(f\"> bid_offsets = {bid_offsets}\")\n",
    "    print(f\"> bid_qts = {bid_qts}\")\n",
    "    \n",
    "    # ------ ask side -------\n",
    "    ask_target_pos = TARGET_MAX_SIZE - current_pos\n",
    "    ask_offset_width      = AGGRESSION  * 0.8  # TODO\n",
    "    \n",
    "    ask_offsets     = np.linspace(0, ask_offset_width, 4)[1:]\n",
    "    ask_qts        = ask_target_pos * np.array([0.25, 0.5, 0.25])\n",
    "    \n",
    "    print(f\"> ask_prices = {ask_offsets}\")\n",
    "    print(f\"> ask_qts = {ask_qts}\")\n",
    "    \n",
    "    \n",
    "    ## PART 3: Send request via API for new order\n",
    "    await construct_and_place(bid_offsets, bid_qts, ask_offsets, ask_qts)\n",
    "    \n",
    "    ## Log what has happened in a CSV\n",
    "\n",
    "    \n",
    "    \n",
    "    \n",
    "    \n",
    "    # Step 6: Wait for 1 second before repeating the loop\n",
    "    await asyncio.sleep(10)\n"
   ]
  },
  {
   "cell_type": "code",
   "execution_count": null,
   "id": "08dabd41",
   "metadata": {},
   "outputs": [],
   "source": []
  }
 ],
 "metadata": {
  "kernelspec": {
   "display_name": "Python 3 (ipykernel)",
   "language": "python",
   "name": "python3"
  },
  "language_info": {
   "codemirror_mode": {
    "name": "ipython",
    "version": 3
   },
   "file_extension": ".py",
   "mimetype": "text/x-python",
   "name": "python",
   "nbconvert_exporter": "python",
   "pygments_lexer": "ipython3",
   "version": "3.10.8"
  }
 },
 "nbformat": 4,
 "nbformat_minor": 5
}
