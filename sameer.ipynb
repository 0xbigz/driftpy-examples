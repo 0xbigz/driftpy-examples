{
 "cells": [
  {
   "cell_type": "code",
   "execution_count": 3,
   "id": "7e4fa77d",
   "metadata": {},
   "outputs": [],
   "source": [
    "import requests, json\n",
    "import pandas as pd\n",
    "import numpy as np\n",
    "pd.options.mode.chained_assignment = None  # default='warn'\n",
    "\n"
   ]
  },
  {
   "cell_type": "code",
   "execution_count": null,
   "id": "41022277",
   "metadata": {},
   "outputs": [],
   "source": []
  },
  {
   "cell_type": "code",
   "execution_count": 4,
   "id": "3c8955e5",
   "metadata": {},
   "outputs": [],
   "source": [
    "MARKET_INDEX_SOL = 1\n",
    "##?????\n",
    "# userAccount = \"ECbtn9Y34m6L89EBDMRYxhpyrFgSHEcbELgozpqAvcDY\"\n",
    "\n",
    "\n",
    "PKEY = \"7f6d3DWGkNrKTERtW9McbBQCVbZibuHUf7CsdUjJyK1t\"\n",
    "\n",
    "URL_ORDERS_SELF   = f\"https://master.api.drift.trade/orders/userAccounts?userPublicKeys={PKEY}&pageIndex=0&pageSize=100&marketType=perp\"\n",
    "\n",
    "## (below), putting public key only allows me to see\n",
    "# https://beta.drift.trade/overview/history/tradeHistory?userAccount=7f6d3DWGkNrKTERtW9McbBQCVbZibuHUf7CsdUjJyK1t\n",
    "URL_HISTORY_SELF  = f\"https://beta.drift.trade/overview/history/tradeHistory?userAccount={PKEY}\"\n",
    "URL_DEVNET_OB     = \"https://master.dlob.drift.trade/orders/json\"\n",
    "# URL_MAINNET_OB     = \"https://dlob.drift.trade/orders/json\"\n",
    "\n"
   ]
  },
  {
   "cell_type": "code",
   "execution_count": null,
   "id": "f0af9ae0",
   "metadata": {},
   "outputs": [],
   "source": []
  },
  {
   "cell_type": "code",
   "execution_count": 31,
   "id": "964560d8",
   "metadata": {},
   "outputs": [
    {
     "name": "stdout",
     "output_type": "stream",
     "text": [
      "[148, 209, 110, 105, 122, 200, 248, 79, 216, 183, 169, 188, 42, 128, 250, 0, 100, 25, 52, 129, 48, 52, 24, 8, 54, 157, 192, 237, 218, 137, 127, 247, 196, 32, 197, 180, 22, 36, 110, 80, 129, 84, 220, 246, 238, 97, 79, 94, 211, 160, 65, 158, 188, 226, 73, 81, 104, 220, 215, 171, 59, 61, 176, 219]\n",
      "using public key: ECbtn9Y34m6L89EBDMRYxhpyrFgSHEcbELgozpqAvcDY subaccount= 0\n",
      "/home/sjl/Projects/drift/driftpy-examples/venv/lib/python3.10/site-packages/driftpy/idl/drift.json\n"
     ]
    }
   ],
   "source": [
    "from driftpy.clearing_house_user import ClearingHouseUser\n",
    "from driftpy.clearing_house import ClearingHouse\n",
    "from solana.keypair import Keypair\n",
    "from driftpy.constants.config import configs\n",
    "import os\n",
    "from anchorpy import Wallet, Provider\n",
    "from solana.rpc.async_api import AsyncClient\n",
    "\n",
    "subaccount_id = 0\n",
    "env = 'devnet'\n",
    "url = 'https://api.devnet.solana.com'\n",
    "\n",
    "\n",
    "with open(os.path.expanduser(\"/home/sjl/.config/solana/key.json\"), 'r') as f: secret = json.load(f)\n",
    "print(secret)\n",
    "kp = Keypair.from_secret_key(bytes(secret))\n",
    "print('using public key:', kp.public_key, 'subaccount=', subaccount_id)\n",
    "config = configs[env]\n",
    "wallet = Wallet(kp)\n",
    "connection = AsyncClient(url)\n",
    "provider = Provider(connection, wallet)\n",
    "drift_acct = ClearingHouse.from_config(config, provider)\n",
    "chu        = ClearingHouseUser(drift_acct)"
   ]
  },
  {
   "cell_type": "code",
   "execution_count": null,
   "id": "94074e77",
   "metadata": {},
   "outputs": [],
   "source": []
  },
  {
   "cell_type": "code",
   "execution_count": 55,
   "id": "a8af0a6f",
   "metadata": {},
   "outputs": [
    {
     "name": "stdout",
     "output_type": "stream",
     "text": [
      "27.648383621405646\n"
     ]
    }
   ],
   "source": [
    "lev = await chu.get_leverage()\n",
    "print(lev)"
   ]
  },
  {
   "cell_type": "code",
   "execution_count": 56,
   "id": "cfc8f074",
   "metadata": {},
   "outputs": [
    {
     "name": "stdout",
     "output_type": "stream",
     "text": [
      "42000911652.11021\n"
     ]
    }
   ],
   "source": [
    "gl = await chu.get_total_collateral()\n",
    "print(gl)"
   ]
  },
  {
   "cell_type": "code",
   "execution_count": 59,
   "id": "f7b7daf8",
   "metadata": {},
   "outputs": [
    {
     "name": "stdout",
     "output_type": "stream",
     "text": [
      "41989304684.28104\n"
     ]
    }
   ],
   "source": [
    "s = await chu.get_free_collateral()\n",
    "print(s)"
   ]
  },
  {
   "cell_type": "code",
   "execution_count": 73,
   "id": "50fccddf",
   "metadata": {},
   "outputs": [
    {
     "name": "stdout",
     "output_type": "stream",
     "text": [
      "-4.99\n",
      "117.287404\n"
     ]
    },
    {
     "data": {
      "text/plain": [
       "PerpPosition(last_cumulative_funding_rate=-3291315921, base_asset_amount=-4990000000, quote_asset_amount=117287404, quote_break_even_amount=117125194, quote_entry_amount=116961035, open_bids=0, open_asks=0, settled_pnl=0, lp_shares=0, last_base_asset_amount_per_lp=0, last_quote_asset_amount_per_lp=0, remainder_base_asset_amount=0, market_index=0, open_orders=0, padding=ListContainer([0]))"
      ]
     },
     "execution_count": 73,
     "metadata": {},
     "output_type": "execute_result"
    }
   ],
   "source": [
    "pp = await chu.get_user_position(0)\n",
    "print(pp.base_asset_amount / 1e9)\n",
    "print(pp.quote_asset_amount / 1e6)\n",
    "\n",
    "pp"
   ]
  },
  {
   "cell_type": "code",
   "execution_count": null,
   "id": "d1da079f",
   "metadata": {},
   "outputs": [],
   "source": []
  },
  {
   "cell_type": "code",
   "execution_count": 45,
   "id": "f16a7239",
   "metadata": {},
   "outputs": [
    {
     "data": {
      "text/html": [
       "<div>\n",
       "<style scoped>\n",
       "    .dataframe tbody tr th:only-of-type {\n",
       "        vertical-align: middle;\n",
       "    }\n",
       "\n",
       "    .dataframe tbody tr th {\n",
       "        vertical-align: top;\n",
       "    }\n",
       "\n",
       "    .dataframe thead th {\n",
       "        text-align: right;\n",
       "    }\n",
       "</style>\n",
       "<table border=\"1\" class=\"dataframe\">\n",
       "  <thead>\n",
       "    <tr style=\"text-align: right;\">\n",
       "      <th></th>\n",
       "      <th>user</th>\n",
       "      <th>status</th>\n",
       "      <th>orderType</th>\n",
       "      <th>marketType</th>\n",
       "      <th>slot</th>\n",
       "      <th>orderId</th>\n",
       "      <th>userOrderId</th>\n",
       "      <th>marketIndex</th>\n",
       "      <th>price</th>\n",
       "      <th>baseAssetAmount</th>\n",
       "      <th>...</th>\n",
       "      <th>triggerPrice</th>\n",
       "      <th>triggerCondition</th>\n",
       "      <th>existingPositionDirection</th>\n",
       "      <th>postOnly</th>\n",
       "      <th>immediateOrCancel</th>\n",
       "      <th>oraclePriceOffset</th>\n",
       "      <th>auctionDuration</th>\n",
       "      <th>auctionStartPrice</th>\n",
       "      <th>auctionEndPrice</th>\n",
       "      <th>maxTs</th>\n",
       "    </tr>\n",
       "  </thead>\n",
       "  <tbody>\n",
       "    <tr>\n",
       "      <th>88</th>\n",
       "      <td>7f6d3DWGkNrKTERtW9McbBQCVbZibuHUf7CsdUjJyK1t</td>\n",
       "      <td>open</td>\n",
       "      <td>limit</td>\n",
       "      <td>perp</td>\n",
       "      <td>212233003</td>\n",
       "      <td>73</td>\n",
       "      <td>0</td>\n",
       "      <td>0</td>\n",
       "      <td>0</td>\n",
       "      <td>240000000</td>\n",
       "      <td>...</td>\n",
       "      <td>0</td>\n",
       "      <td>above</td>\n",
       "      <td>short</td>\n",
       "      <td>True</td>\n",
       "      <td>False</td>\n",
       "      <td>-1000000</td>\n",
       "      <td>0</td>\n",
       "      <td>0</td>\n",
       "      <td>0</td>\n",
       "      <td>0</td>\n",
       "    </tr>\n",
       "  </tbody>\n",
       "</table>\n",
       "<p>1 rows × 24 columns</p>\n",
       "</div>"
      ],
      "text/plain": [
       "                                            user status orderType marketType  \\\n",
       "88  7f6d3DWGkNrKTERtW9McbBQCVbZibuHUf7CsdUjJyK1t   open     limit       perp   \n",
       "\n",
       "         slot  orderId  userOrderId  marketIndex price baseAssetAmount  ...  \\\n",
       "88  212233003       73            0            0     0       240000000  ...   \n",
       "\n",
       "   triggerPrice triggerCondition existingPositionDirection  postOnly  \\\n",
       "88            0            above                     short      True   \n",
       "\n",
       "   immediateOrCancel oraclePriceOffset auctionDuration  auctionStartPrice  \\\n",
       "88             False          -1000000               0                  0   \n",
       "\n",
       "    auctionEndPrice  maxTs  \n",
       "88                0      0  \n",
       "\n",
       "[1 rows x 24 columns]"
      ]
     },
     "execution_count": 45,
     "metadata": {},
     "output_type": "execute_result"
    }
   ],
   "source": [
    "r = requests.get(URL_DEVNET_OB).json()\n",
    "orders_all = list(map(lambda d: {**d, **d.pop('order')}, r['orders']))\n",
    "df = pd.DataFrame(orders_all)\n",
    "df[df.user == PKEY]"
   ]
  },
  {
   "cell_type": "code",
   "execution_count": 46,
   "id": "91f1d5a7",
   "metadata": {},
   "outputs": [
    {
     "data": {
      "text/html": [
       "<div>\n",
       "<style scoped>\n",
       "    .dataframe tbody tr th:only-of-type {\n",
       "        vertical-align: middle;\n",
       "    }\n",
       "\n",
       "    .dataframe tbody tr th {\n",
       "        vertical-align: top;\n",
       "    }\n",
       "\n",
       "    .dataframe thead th {\n",
       "        text-align: right;\n",
       "    }\n",
       "</style>\n",
       "<table border=\"1\" class=\"dataframe\">\n",
       "  <thead>\n",
       "    <tr style=\"text-align: right;\">\n",
       "      <th></th>\n",
       "      <th>user</th>\n",
       "      <th>status</th>\n",
       "      <th>orderType</th>\n",
       "      <th>marketType</th>\n",
       "      <th>slot</th>\n",
       "      <th>orderId</th>\n",
       "      <th>userOrderId</th>\n",
       "      <th>marketIndex</th>\n",
       "      <th>price</th>\n",
       "      <th>baseAssetAmount</th>\n",
       "      <th>...</th>\n",
       "      <th>triggerCondition</th>\n",
       "      <th>existingPositionDirection</th>\n",
       "      <th>postOnly</th>\n",
       "      <th>immediateOrCancel</th>\n",
       "      <th>oraclePriceOffset</th>\n",
       "      <th>auctionDuration</th>\n",
       "      <th>auctionStartPrice</th>\n",
       "      <th>auctionEndPrice</th>\n",
       "      <th>maxTs</th>\n",
       "      <th>oraclePrice</th>\n",
       "    </tr>\n",
       "  </thead>\n",
       "  <tbody>\n",
       "    <tr>\n",
       "      <th>1</th>\n",
       "      <td>GVZdE1t9jMKZ4rJQZcboy2HxkUjvJAe4abc9wy9fRX5z</td>\n",
       "      <td>open</td>\n",
       "      <td>limit</td>\n",
       "      <td>perp</td>\n",
       "      <td>197947972</td>\n",
       "      <td>115</td>\n",
       "      <td>0</td>\n",
       "      <td>1</td>\n",
       "      <td>19000.0</td>\n",
       "      <td>1.0000</td>\n",
       "      <td>...</td>\n",
       "      <td>above</td>\n",
       "      <td>long</td>\n",
       "      <td>False</td>\n",
       "      <td>False</td>\n",
       "      <td>0.000000</td>\n",
       "      <td>0</td>\n",
       "      <td>0</td>\n",
       "      <td>0</td>\n",
       "      <td>281474976710656</td>\n",
       "      <td>29374.464219</td>\n",
       "    </tr>\n",
       "    <tr>\n",
       "      <th>23</th>\n",
       "      <td>CL8wiAZqUoc3Uxo1JaEoRkambR42xwyCvojKtTRigKjx</td>\n",
       "      <td>open</td>\n",
       "      <td>limit</td>\n",
       "      <td>perp</td>\n",
       "      <td>208875895</td>\n",
       "      <td>1538690</td>\n",
       "      <td>0</td>\n",
       "      <td>1</td>\n",
       "      <td>0.0</td>\n",
       "      <td>2.1695</td>\n",
       "      <td>...</td>\n",
       "      <td>above</td>\n",
       "      <td>short</td>\n",
       "      <td>True</td>\n",
       "      <td>False</td>\n",
       "      <td>-26.387281</td>\n",
       "      <td>0</td>\n",
       "      <td>0</td>\n",
       "      <td>0</td>\n",
       "      <td>0</td>\n",
       "      <td>29374.464219</td>\n",
       "    </tr>\n",
       "    <tr>\n",
       "      <th>29</th>\n",
       "      <td>CL8wiAZqUoc3Uxo1JaEoRkambR42xwyCvojKtTRigKjx</td>\n",
       "      <td>open</td>\n",
       "      <td>limit</td>\n",
       "      <td>perp</td>\n",
       "      <td>208875895</td>\n",
       "      <td>1538691</td>\n",
       "      <td>0</td>\n",
       "      <td>1</td>\n",
       "      <td>0.0</td>\n",
       "      <td>3.2543</td>\n",
       "      <td>...</td>\n",
       "      <td>above</td>\n",
       "      <td>short</td>\n",
       "      <td>True</td>\n",
       "      <td>False</td>\n",
       "      <td>-41.542083</td>\n",
       "      <td>0</td>\n",
       "      <td>0</td>\n",
       "      <td>0</td>\n",
       "      <td>0</td>\n",
       "      <td>29374.464219</td>\n",
       "    </tr>\n",
       "    <tr>\n",
       "      <th>30</th>\n",
       "      <td>CL8wiAZqUoc3Uxo1JaEoRkambR42xwyCvojKtTRigKjx</td>\n",
       "      <td>open</td>\n",
       "      <td>limit</td>\n",
       "      <td>perp</td>\n",
       "      <td>208875895</td>\n",
       "      <td>1538692</td>\n",
       "      <td>0</td>\n",
       "      <td>1</td>\n",
       "      <td>0.0</td>\n",
       "      <td>4.3391</td>\n",
       "      <td>...</td>\n",
       "      <td>above</td>\n",
       "      <td>short</td>\n",
       "      <td>True</td>\n",
       "      <td>False</td>\n",
       "      <td>-56.696886</td>\n",
       "      <td>0</td>\n",
       "      <td>0</td>\n",
       "      <td>0</td>\n",
       "      <td>0</td>\n",
       "      <td>29374.464219</td>\n",
       "    </tr>\n",
       "  </tbody>\n",
       "</table>\n",
       "<p>4 rows × 25 columns</p>\n",
       "</div>"
      ],
      "text/plain": [
       "                                            user status orderType marketType  \\\n",
       "1   GVZdE1t9jMKZ4rJQZcboy2HxkUjvJAe4abc9wy9fRX5z   open     limit       perp   \n",
       "23  CL8wiAZqUoc3Uxo1JaEoRkambR42xwyCvojKtTRigKjx   open     limit       perp   \n",
       "29  CL8wiAZqUoc3Uxo1JaEoRkambR42xwyCvojKtTRigKjx   open     limit       perp   \n",
       "30  CL8wiAZqUoc3Uxo1JaEoRkambR42xwyCvojKtTRigKjx   open     limit       perp   \n",
       "\n",
       "         slot  orderId  userOrderId  marketIndex    price  baseAssetAmount  \\\n",
       "1   197947972      115            0            1  19000.0           1.0000   \n",
       "23  208875895  1538690            0            1      0.0           2.1695   \n",
       "29  208875895  1538691            0            1      0.0           3.2543   \n",
       "30  208875895  1538692            0            1      0.0           4.3391   \n",
       "\n",
       "    ...  triggerCondition  existingPositionDirection postOnly  \\\n",
       "1   ...             above                       long    False   \n",
       "23  ...             above                      short     True   \n",
       "29  ...             above                      short     True   \n",
       "30  ...             above                      short     True   \n",
       "\n",
       "    immediateOrCancel oraclePriceOffset auctionDuration auctionStartPrice  \\\n",
       "1               False          0.000000               0                 0   \n",
       "23              False        -26.387281               0                 0   \n",
       "29              False        -41.542083               0                 0   \n",
       "30              False        -56.696886               0                 0   \n",
       "\n",
       "    auctionEndPrice            maxTs   oraclePrice  \n",
       "1                 0  281474976710656  29374.464219  \n",
       "23                0                0  29374.464219  \n",
       "29                0                0  29374.464219  \n",
       "30                0                0  29374.464219  \n",
       "\n",
       "[4 rows x 25 columns]"
      ]
     },
     "execution_count": 46,
     "metadata": {},
     "output_type": "execute_result"
    }
   ],
   "source": [
    "# def get_order_book(market_index=0):\n",
    "\n",
    "try:\n",
    "    r = requests.get(URL_DEVNET_OB).json()\n",
    "except:\n",
    "    print(r)\n",
    "    raise Exception(\"Unable to fetch orderbook\")\n",
    "\n",
    "slot    = r['slot']\n",
    "oracles = r['oracles']\n",
    "orders  = r['orders']\n",
    "\n",
    "    \n",
    "## market index -> price\n",
    "market_to_oracle_map = pd.DataFrame(r['oracles']).set_index('marketIndex').to_dict()['price']\n",
    "market_to_oracle_map\n",
    "    \n",
    "    \n",
    "## Get list of outstanding orders\n",
    "orders_all = list(map(lambda d: {**d, **d.pop('order')}, orders))\n",
    "df = pd.DataFrame(orders_all)\n",
    "df_raw = pd.DataFrame(orders_all)\n",
    "\n",
    "## Only interested in (a) SOL-PERP (b) limit orders\n",
    "# SOL is marketINdex=1 as per protocol-v2/sdk/src/constants/spotMarkets.ts\n",
    "df = df[(df.orderType == 'limit' ) & (df.marketIndex == MARKET_INDEX_SOL) & (df.marketType=='perp')]\n",
    "\n",
    "df[\"oraclePrice\"] = df[\"marketIndex\"].apply(lambda x: market_to_oracle_map.get(x, None))\n",
    "\n",
    "## Convert from lamports:\n",
    "for col in ['price', 'oraclePrice', 'oraclePriceOffset']:\n",
    "    df[col] = df[col].astype(int)\n",
    "    df[col] /= 1e6\n",
    "\n",
    "for col in ['quoteAssetAmountFilled']:\n",
    "    df[col] = df[col].astype(int)\n",
    "    df[col] /= 1e6 \n",
    "\n",
    "for col in ['baseAssetAmount', 'baseAssetAmountFilled']:\n",
    "    df[col] = df[col].astype(int)\n",
    "    df[col] /= 1e9\n",
    "\n",
    "df"
   ]
  },
  {
   "cell_type": "code",
   "execution_count": null,
   "id": "0cd2b163",
   "metadata": {},
   "outputs": [],
   "source": [
    "\n",
    "mdf = df[['price', 'baseAssetAmount', 'direction', 'user', 'status', 'orderType', 'marketType', 'slot', 'orderId', 'userOrderId',\n",
    "'marketIndex',  'baseAssetAmountFilled',\n",
    "'quoteAssetAmountFilled',  'reduceOnly', 'triggerPrice',\n",
    "'triggerCondition', 'existingPositionDirection', 'postOnly',\n",
    "'immediateOrCancel', 'oraclePriceOffset', 'auctionDuration',\n",
    "'auctionStartPrice', 'auctionEndPrice', 'maxTs', 'oraclePrice', \"user\"]]\n",
    "mdf = mdf.sort_values('price').reset_index(drop=True)\n",
    "\n",
    "\n",
    "mdf"
   ]
  },
  {
   "cell_type": "code",
   "execution_count": null,
   "id": "3b3a3537",
   "metadata": {},
   "outputs": [],
   "source": []
  },
  {
   "cell_type": "markdown",
   "id": "836644f3",
   "metadata": {},
   "source": [
    "# Below is load_realtime_book"
   ]
  },
  {
   "cell_type": "code",
   "execution_count": null,
   "id": "e9335d9f",
   "metadata": {},
   "outputs": [],
   "source": []
  },
  {
   "cell_type": "code",
   "execution_count": null,
   "id": "554664a0",
   "metadata": {},
   "outputs": [],
   "source": []
  },
  {
   "cell_type": "code",
   "execution_count": null,
   "id": "b41524cb",
   "metadata": {},
   "outputs": [],
   "source": []
  },
  {
   "cell_type": "code",
   "execution_count": null,
   "id": "cf90455a",
   "metadata": {},
   "outputs": [],
   "source": []
  },
  {
   "cell_type": "code",
   "execution_count": null,
   "id": "ac672987",
   "metadata": {},
   "outputs": [],
   "source": []
  }
 ],
 "metadata": {
  "kernelspec": {
   "display_name": "Python 3 (ipykernel)",
   "language": "python",
   "name": "python3"
  },
  "language_info": {
   "codemirror_mode": {
    "name": "ipython",
    "version": 3
   },
   "file_extension": ".py",
   "mimetype": "text/x-python",
   "name": "python",
   "nbconvert_exporter": "python",
   "pygments_lexer": "ipython3",
   "version": "3.10.8"
  }
 },
 "nbformat": 4,
 "nbformat_minor": 5
}
